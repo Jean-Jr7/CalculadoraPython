{
  "nbformat": 4,
  "nbformat_minor": 0,
  "metadata": {
    "colab": {
      "provenance": [],
      "mount_file_id": "1YgxaVznQHm4x8Mz_0BHikdx7REFbGCLx",
      "authorship_tag": "ABX9TyPJe4t6WzSf6MgrAXxmvaQo"
    },
    "kernelspec": {
      "name": "python3",
      "display_name": "Python 3"
    },
    "language_info": {
      "name": "python"
    }
  },
  "cells": [
    {
      "cell_type": "code",
      "source": [
        "! pip install pyspark"
      ],
      "metadata": {
        "colab": {
          "base_uri": "https://localhost:8080/"
        },
        "id": "StSCY730D2MC",
        "outputId": "e788adff-2213-4ec2-acbc-1a7ae8cdcbad"
      },
      "execution_count": 56,
      "outputs": [
        {
          "output_type": "stream",
          "name": "stdout",
          "text": [
            "Requirement already satisfied: pyspark in /usr/local/lib/python3.11/dist-packages (3.5.5)\n",
            "Requirement already satisfied: py4j==0.10.9.7 in /usr/local/lib/python3.11/dist-packages (from pyspark) (0.10.9.7)\n"
          ]
        }
      ]
    },
    {
      "cell_type": "code",
      "execution_count": 57,
      "metadata": {
        "id": "pc5iP7idiPRr"
      },
      "outputs": [],
      "source": [
        "import requests\n",
        "import io\n",
        "import pandas as pd\n",
        "from pyspark.sql import SparkSession"
      ]
    },
    {
      "cell_type": "code",
      "source": [
        "url = 'http://compras.dados.gov.br/servicos/v1/servicos.csv?descricao=educação'"
      ],
      "metadata": {
        "id": "F67Z9gUqjnMf"
      },
      "execution_count": 58,
      "outputs": []
    },
    {
      "cell_type": "code",
      "source": [
        "data = requests.get(url).content\n",
        "data"
      ],
      "metadata": {
        "colab": {
          "base_uri": "https://localhost:8080/"
        },
        "id": "LJ1JbPbzkhZR",
        "outputId": "fdcc7e77-9544-4f47-ffa8-61062bc57c47"
      },
      "execution_count": 59,
      "outputs": [
        {
          "output_type": "execute_result",
          "data": {
            "text/plain": [
              "b'C\\xc3\\xb3digo,Descri\\xc3\\xa7\\xc3\\xa3o,Unidade medida,CPC,Se\\xc3\\xa7\\xc3\\xa3o,Divis\\xc3\\xa3o,Grupo,Classe,Subclasse\\n14311,\"Orienta\\xc3\\xa7\\xc3\\xa3o / Educa\\xc3\\xa7\\xc3\\xa3o - Atividade F\\xc3\\xadsica                                                                                \",UNHOMEM/H M\\xc3\\x8aS,9659,\"9: SERVI\\xc3\\x87OS DA COMUNIDADE, PESSOAIS E SOCIAIS E OUTROS SERVI\\xc3\\x87OS                                                            \",\"96: SERVI\\xc3\\x87OS RECREACIONAIS, CULTURAIS E ESPORTIVOS                                                                          \",\"965: SERVI\\xc3\\x87OS RELACIONADOS COM ESPORTES E SERVI\\xc3\\x87OS RECREACIONAIS DO ESPORTE                                                  \",\"9659: OUTROS ESPORTES E SERVI\\xc3\\x87OS DE ESPORTES RECREATIVOS                                                                      \",\\n15946,\"Servi\\xc3\\xa7o Penitenci\\xc3\\xa1rio - Reeduca\\xc3\\xa7\\xc3\\xa3o e Reabilita\\xc3\\xa7\\xc3\\xa3o de Apenado                                                            \",UN,979,\"9: SERVI\\xc3\\x87OS DA COMUNIDADE, PESSOAIS E SOCIAIS E OUTROS SERVI\\xc3\\x87OS                                                            \",\"97: OUTROS SERVI\\xc3\\x87OS                                                                                                         \",\"979: OUTROS SERVI\\xc3\\x87OS DIVERSOS/MISCEL\\xc3\\x82NEA                                                                                     \",,\\n18481,\"Consultoria e Assessoria - Educa\\xc3\\xa7\\xc3\\xa3o                                                                                     \",UN,8319,\"8: SERVI\\xc3\\x87OS DE ARQUITETURA, DESENHOS T\\xc3\\x89CNICOS, PESQUISA E DESENVOLVIMENTO, NEG\\xc3\\x93CIO E PRODU\\xc3\\x87\\xc3\\x83O                              \",\"83: OUTROS SERVI\\xc3\\x87OS DE NEG\\xc3\\x93CIOS, T\\xc3\\x89CNICOS E PROFISSIONAIS                                                                   \",\"831: SERVI\\xc3\\x87OS DE CONSULTORIA E DE GER\\xc3\\x8aNCIA/GEST\\xc3\\x83O                                                                            \",\"8319: OUTROS SERVI\\xc3\\x87OS DE GER\\xc3\\x8aNCIA/GEST\\xc3\\x83O, EXCETO OS DE PROJETOS DECONSTRU\\xc3\\x87\\xc3\\x83O                                                  \",\\n19321,\"Curso / Treinamento Educa\\xc3\\xa7\\xc3\\xa3o - Dist\\xc3\\xa2ncia                                                                                \",UN,929,\"9: SERVI\\xc3\\x87OS DA COMUNIDADE, PESSOAIS E SOCIAIS E OUTROS SERVI\\xc3\\x87OS                                                            \",\"92: SERVI\\xc3\\x87OS DA INSTRU\\xc3\\x87\\xc3\\x83O/ EDUCA\\xc3\\x87\\xc3\\x83O/ ENSINO                                                                                 \",\"929: OUTROS SERVI\\xc3\\x87OS DE EDUCA\\xc3\\x87\\xc3\\x83O E TREINAMENTO                                                                               \",,\\n'"
            ]
          },
          "metadata": {},
          "execution_count": 59
        }
      ]
    },
    {
      "cell_type": "code",
      "source": [
        "parse_data = io.StringIO(data.decode('utf-8'))\n",
        "print (parse_data)"
      ],
      "metadata": {
        "colab": {
          "base_uri": "https://localhost:8080/"
        },
        "id": "yc2OPRnnDx-9",
        "outputId": "a6ab510c-2444-4753-e072-69113d5daec7"
      },
      "execution_count": 60,
      "outputs": [
        {
          "output_type": "stream",
          "name": "stdout",
          "text": [
            "<_io.StringIO object at 0x7d88acd73490>\n"
          ]
        }
      ]
    },
    {
      "cell_type": "code",
      "source": [
        "df = pd.read_csv(parse_data)\n",
        "df.head()"
      ],
      "metadata": {
        "colab": {
          "base_uri": "https://localhost:8080/",
          "height": 331
        },
        "id": "1I0mJSa4FVSh",
        "outputId": "55ee0ce2-2f2e-48ff-d3ed-cbe9a1cec351"
      },
      "execution_count": 61,
      "outputs": [
        {
          "output_type": "execute_result",
          "data": {
            "text/plain": [
              "   Código                                          Descrição Unidade medida  \\\n",
              "0   14311  Orientação / Educação - Atividade Física      ...  UNHOMEM/H MÊS   \n",
              "1   15946  Serviço Penitenciário - Reeducação e Reabilita...             UN   \n",
              "2   18481  Consultoria e Assessoria - Educação           ...             UN   \n",
              "3   19321  Curso / Treinamento Educação - Distância      ...             UN   \n",
              "\n",
              "    CPC                                              Seção  \\\n",
              "0  9659  9: SERVIÇOS DA COMUNIDADE, PESSOAIS E SOCIAIS ...   \n",
              "1   979  9: SERVIÇOS DA COMUNIDADE, PESSOAIS E SOCIAIS ...   \n",
              "2  8319  8: SERVIÇOS DE ARQUITETURA, DESENHOS TÉCNICOS,...   \n",
              "3   929  9: SERVIÇOS DA COMUNIDADE, PESSOAIS E SOCIAIS ...   \n",
              "\n",
              "                                             Divisão  \\\n",
              "0  96: SERVIÇOS RECREACIONAIS, CULTURAIS E ESPORT...   \n",
              "1  97: OUTROS SERVIÇOS                           ...   \n",
              "2  83: OUTROS SERVIÇOS DE NEGÓCIOS, TÉCNICOS E PR...   \n",
              "3  92: SERVIÇOS DA INSTRUÇÃO/ EDUCAÇÃO/ ENSINO   ...   \n",
              "\n",
              "                                               Grupo  \\\n",
              "0  965: SERVIÇOS RELACIONADOS COM ESPORTES E SERV...   \n",
              "1  979: OUTROS SERVIÇOS DIVERSOS/MISCELÂNEA      ...   \n",
              "2  831: SERVIÇOS DE CONSULTORIA E DE GERÊNCIA/GES...   \n",
              "3  929: OUTROS SERVIÇOS DE EDUCAÇÃO E TREINAMENTO...   \n",
              "\n",
              "                                              Classe  Subclasse  \n",
              "0  9659: OUTROS ESPORTES E SERVIÇOS DE ESPORTES R...        NaN  \n",
              "1                                                NaN        NaN  \n",
              "2  8319: OUTROS SERVIÇOS DE GERÊNCIA/GESTÃO, EXCE...        NaN  \n",
              "3                                                NaN        NaN  "
            ],
            "text/html": [
              "\n",
              "  <div id=\"df-891a7fb5-d41f-40d0-9910-18664866c212\" class=\"colab-df-container\">\n",
              "    <div>\n",
              "<style scoped>\n",
              "    .dataframe tbody tr th:only-of-type {\n",
              "        vertical-align: middle;\n",
              "    }\n",
              "\n",
              "    .dataframe tbody tr th {\n",
              "        vertical-align: top;\n",
              "    }\n",
              "\n",
              "    .dataframe thead th {\n",
              "        text-align: right;\n",
              "    }\n",
              "</style>\n",
              "<table border=\"1\" class=\"dataframe\">\n",
              "  <thead>\n",
              "    <tr style=\"text-align: right;\">\n",
              "      <th></th>\n",
              "      <th>Código</th>\n",
              "      <th>Descrição</th>\n",
              "      <th>Unidade medida</th>\n",
              "      <th>CPC</th>\n",
              "      <th>Seção</th>\n",
              "      <th>Divisão</th>\n",
              "      <th>Grupo</th>\n",
              "      <th>Classe</th>\n",
              "      <th>Subclasse</th>\n",
              "    </tr>\n",
              "  </thead>\n",
              "  <tbody>\n",
              "    <tr>\n",
              "      <th>0</th>\n",
              "      <td>14311</td>\n",
              "      <td>Orientação / Educação - Atividade Física      ...</td>\n",
              "      <td>UNHOMEM/H MÊS</td>\n",
              "      <td>9659</td>\n",
              "      <td>9: SERVIÇOS DA COMUNIDADE, PESSOAIS E SOCIAIS ...</td>\n",
              "      <td>96: SERVIÇOS RECREACIONAIS, CULTURAIS E ESPORT...</td>\n",
              "      <td>965: SERVIÇOS RELACIONADOS COM ESPORTES E SERV...</td>\n",
              "      <td>9659: OUTROS ESPORTES E SERVIÇOS DE ESPORTES R...</td>\n",
              "      <td>NaN</td>\n",
              "    </tr>\n",
              "    <tr>\n",
              "      <th>1</th>\n",
              "      <td>15946</td>\n",
              "      <td>Serviço Penitenciário - Reeducação e Reabilita...</td>\n",
              "      <td>UN</td>\n",
              "      <td>979</td>\n",
              "      <td>9: SERVIÇOS DA COMUNIDADE, PESSOAIS E SOCIAIS ...</td>\n",
              "      <td>97: OUTROS SERVIÇOS                           ...</td>\n",
              "      <td>979: OUTROS SERVIÇOS DIVERSOS/MISCELÂNEA      ...</td>\n",
              "      <td>NaN</td>\n",
              "      <td>NaN</td>\n",
              "    </tr>\n",
              "    <tr>\n",
              "      <th>2</th>\n",
              "      <td>18481</td>\n",
              "      <td>Consultoria e Assessoria - Educação           ...</td>\n",
              "      <td>UN</td>\n",
              "      <td>8319</td>\n",
              "      <td>8: SERVIÇOS DE ARQUITETURA, DESENHOS TÉCNICOS,...</td>\n",
              "      <td>83: OUTROS SERVIÇOS DE NEGÓCIOS, TÉCNICOS E PR...</td>\n",
              "      <td>831: SERVIÇOS DE CONSULTORIA E DE GERÊNCIA/GES...</td>\n",
              "      <td>8319: OUTROS SERVIÇOS DE GERÊNCIA/GESTÃO, EXCE...</td>\n",
              "      <td>NaN</td>\n",
              "    </tr>\n",
              "    <tr>\n",
              "      <th>3</th>\n",
              "      <td>19321</td>\n",
              "      <td>Curso / Treinamento Educação - Distância      ...</td>\n",
              "      <td>UN</td>\n",
              "      <td>929</td>\n",
              "      <td>9: SERVIÇOS DA COMUNIDADE, PESSOAIS E SOCIAIS ...</td>\n",
              "      <td>92: SERVIÇOS DA INSTRUÇÃO/ EDUCAÇÃO/ ENSINO   ...</td>\n",
              "      <td>929: OUTROS SERVIÇOS DE EDUCAÇÃO E TREINAMENTO...</td>\n",
              "      <td>NaN</td>\n",
              "      <td>NaN</td>\n",
              "    </tr>\n",
              "  </tbody>\n",
              "</table>\n",
              "</div>\n",
              "    <div class=\"colab-df-buttons\">\n",
              "\n",
              "  <div class=\"colab-df-container\">\n",
              "    <button class=\"colab-df-convert\" onclick=\"convertToInteractive('df-891a7fb5-d41f-40d0-9910-18664866c212')\"\n",
              "            title=\"Convert this dataframe to an interactive table.\"\n",
              "            style=\"display:none;\">\n",
              "\n",
              "  <svg xmlns=\"http://www.w3.org/2000/svg\" height=\"24px\" viewBox=\"0 -960 960 960\">\n",
              "    <path d=\"M120-120v-720h720v720H120Zm60-500h600v-160H180v160Zm220 220h160v-160H400v160Zm0 220h160v-160H400v160ZM180-400h160v-160H180v160Zm440 0h160v-160H620v160ZM180-180h160v-160H180v160Zm440 0h160v-160H620v160Z\"/>\n",
              "  </svg>\n",
              "    </button>\n",
              "\n",
              "  <style>\n",
              "    .colab-df-container {\n",
              "      display:flex;\n",
              "      gap: 12px;\n",
              "    }\n",
              "\n",
              "    .colab-df-convert {\n",
              "      background-color: #E8F0FE;\n",
              "      border: none;\n",
              "      border-radius: 50%;\n",
              "      cursor: pointer;\n",
              "      display: none;\n",
              "      fill: #1967D2;\n",
              "      height: 32px;\n",
              "      padding: 0 0 0 0;\n",
              "      width: 32px;\n",
              "    }\n",
              "\n",
              "    .colab-df-convert:hover {\n",
              "      background-color: #E2EBFA;\n",
              "      box-shadow: 0px 1px 2px rgba(60, 64, 67, 0.3), 0px 1px 3px 1px rgba(60, 64, 67, 0.15);\n",
              "      fill: #174EA6;\n",
              "    }\n",
              "\n",
              "    .colab-df-buttons div {\n",
              "      margin-bottom: 4px;\n",
              "    }\n",
              "\n",
              "    [theme=dark] .colab-df-convert {\n",
              "      background-color: #3B4455;\n",
              "      fill: #D2E3FC;\n",
              "    }\n",
              "\n",
              "    [theme=dark] .colab-df-convert:hover {\n",
              "      background-color: #434B5C;\n",
              "      box-shadow: 0px 1px 3px 1px rgba(0, 0, 0, 0.15);\n",
              "      filter: drop-shadow(0px 1px 2px rgba(0, 0, 0, 0.3));\n",
              "      fill: #FFFFFF;\n",
              "    }\n",
              "  </style>\n",
              "\n",
              "    <script>\n",
              "      const buttonEl =\n",
              "        document.querySelector('#df-891a7fb5-d41f-40d0-9910-18664866c212 button.colab-df-convert');\n",
              "      buttonEl.style.display =\n",
              "        google.colab.kernel.accessAllowed ? 'block' : 'none';\n",
              "\n",
              "      async function convertToInteractive(key) {\n",
              "        const element = document.querySelector('#df-891a7fb5-d41f-40d0-9910-18664866c212');\n",
              "        const dataTable =\n",
              "          await google.colab.kernel.invokeFunction('convertToInteractive',\n",
              "                                                    [key], {});\n",
              "        if (!dataTable) return;\n",
              "\n",
              "        const docLinkHtml = 'Like what you see? Visit the ' +\n",
              "          '<a target=\"_blank\" href=https://colab.research.google.com/notebooks/data_table.ipynb>data table notebook</a>'\n",
              "          + ' to learn more about interactive tables.';\n",
              "        element.innerHTML = '';\n",
              "        dataTable['output_type'] = 'display_data';\n",
              "        await google.colab.output.renderOutput(dataTable, element);\n",
              "        const docLink = document.createElement('div');\n",
              "        docLink.innerHTML = docLinkHtml;\n",
              "        element.appendChild(docLink);\n",
              "      }\n",
              "    </script>\n",
              "  </div>\n",
              "\n",
              "\n",
              "<div id=\"df-2074929f-48d9-4b71-a827-d9b12e601087\">\n",
              "  <button class=\"colab-df-quickchart\" onclick=\"quickchart('df-2074929f-48d9-4b71-a827-d9b12e601087')\"\n",
              "            title=\"Suggest charts\"\n",
              "            style=\"display:none;\">\n",
              "\n",
              "<svg xmlns=\"http://www.w3.org/2000/svg\" height=\"24px\"viewBox=\"0 0 24 24\"\n",
              "     width=\"24px\">\n",
              "    <g>\n",
              "        <path d=\"M19 3H5c-1.1 0-2 .9-2 2v14c0 1.1.9 2 2 2h14c1.1 0 2-.9 2-2V5c0-1.1-.9-2-2-2zM9 17H7v-7h2v7zm4 0h-2V7h2v10zm4 0h-2v-4h2v4z\"/>\n",
              "    </g>\n",
              "</svg>\n",
              "  </button>\n",
              "\n",
              "<style>\n",
              "  .colab-df-quickchart {\n",
              "      --bg-color: #E8F0FE;\n",
              "      --fill-color: #1967D2;\n",
              "      --hover-bg-color: #E2EBFA;\n",
              "      --hover-fill-color: #174EA6;\n",
              "      --disabled-fill-color: #AAA;\n",
              "      --disabled-bg-color: #DDD;\n",
              "  }\n",
              "\n",
              "  [theme=dark] .colab-df-quickchart {\n",
              "      --bg-color: #3B4455;\n",
              "      --fill-color: #D2E3FC;\n",
              "      --hover-bg-color: #434B5C;\n",
              "      --hover-fill-color: #FFFFFF;\n",
              "      --disabled-bg-color: #3B4455;\n",
              "      --disabled-fill-color: #666;\n",
              "  }\n",
              "\n",
              "  .colab-df-quickchart {\n",
              "    background-color: var(--bg-color);\n",
              "    border: none;\n",
              "    border-radius: 50%;\n",
              "    cursor: pointer;\n",
              "    display: none;\n",
              "    fill: var(--fill-color);\n",
              "    height: 32px;\n",
              "    padding: 0;\n",
              "    width: 32px;\n",
              "  }\n",
              "\n",
              "  .colab-df-quickchart:hover {\n",
              "    background-color: var(--hover-bg-color);\n",
              "    box-shadow: 0 1px 2px rgba(60, 64, 67, 0.3), 0 1px 3px 1px rgba(60, 64, 67, 0.15);\n",
              "    fill: var(--button-hover-fill-color);\n",
              "  }\n",
              "\n",
              "  .colab-df-quickchart-complete:disabled,\n",
              "  .colab-df-quickchart-complete:disabled:hover {\n",
              "    background-color: var(--disabled-bg-color);\n",
              "    fill: var(--disabled-fill-color);\n",
              "    box-shadow: none;\n",
              "  }\n",
              "\n",
              "  .colab-df-spinner {\n",
              "    border: 2px solid var(--fill-color);\n",
              "    border-color: transparent;\n",
              "    border-bottom-color: var(--fill-color);\n",
              "    animation:\n",
              "      spin 1s steps(1) infinite;\n",
              "  }\n",
              "\n",
              "  @keyframes spin {\n",
              "    0% {\n",
              "      border-color: transparent;\n",
              "      border-bottom-color: var(--fill-color);\n",
              "      border-left-color: var(--fill-color);\n",
              "    }\n",
              "    20% {\n",
              "      border-color: transparent;\n",
              "      border-left-color: var(--fill-color);\n",
              "      border-top-color: var(--fill-color);\n",
              "    }\n",
              "    30% {\n",
              "      border-color: transparent;\n",
              "      border-left-color: var(--fill-color);\n",
              "      border-top-color: var(--fill-color);\n",
              "      border-right-color: var(--fill-color);\n",
              "    }\n",
              "    40% {\n",
              "      border-color: transparent;\n",
              "      border-right-color: var(--fill-color);\n",
              "      border-top-color: var(--fill-color);\n",
              "    }\n",
              "    60% {\n",
              "      border-color: transparent;\n",
              "      border-right-color: var(--fill-color);\n",
              "    }\n",
              "    80% {\n",
              "      border-color: transparent;\n",
              "      border-right-color: var(--fill-color);\n",
              "      border-bottom-color: var(--fill-color);\n",
              "    }\n",
              "    90% {\n",
              "      border-color: transparent;\n",
              "      border-bottom-color: var(--fill-color);\n",
              "    }\n",
              "  }\n",
              "</style>\n",
              "\n",
              "  <script>\n",
              "    async function quickchart(key) {\n",
              "      const quickchartButtonEl =\n",
              "        document.querySelector('#' + key + ' button');\n",
              "      quickchartButtonEl.disabled = true;  // To prevent multiple clicks.\n",
              "      quickchartButtonEl.classList.add('colab-df-spinner');\n",
              "      try {\n",
              "        const charts = await google.colab.kernel.invokeFunction(\n",
              "            'suggestCharts', [key], {});\n",
              "      } catch (error) {\n",
              "        console.error('Error during call to suggestCharts:', error);\n",
              "      }\n",
              "      quickchartButtonEl.classList.remove('colab-df-spinner');\n",
              "      quickchartButtonEl.classList.add('colab-df-quickchart-complete');\n",
              "    }\n",
              "    (() => {\n",
              "      let quickchartButtonEl =\n",
              "        document.querySelector('#df-2074929f-48d9-4b71-a827-d9b12e601087 button');\n",
              "      quickchartButtonEl.style.display =\n",
              "        google.colab.kernel.accessAllowed ? 'block' : 'none';\n",
              "    })();\n",
              "  </script>\n",
              "</div>\n",
              "\n",
              "    </div>\n",
              "  </div>\n"
            ],
            "application/vnd.google.colaboratory.intrinsic+json": {
              "type": "dataframe",
              "variable_name": "df",
              "summary": "{\n  \"name\": \"df\",\n  \"rows\": 4,\n  \"fields\": [\n    {\n      \"column\": \"C\\u00f3digo\",\n      \"properties\": {\n        \"dtype\": \"number\",\n        \"std\": 2303,\n        \"min\": 14311,\n        \"max\": 19321,\n        \"num_unique_values\": 4,\n        \"samples\": [\n          15946,\n          19321,\n          14311\n        ],\n        \"semantic_type\": \"\",\n        \"description\": \"\"\n      }\n    },\n    {\n      \"column\": \"Descri\\u00e7\\u00e3o\",\n      \"properties\": {\n        \"dtype\": \"string\",\n        \"num_unique_values\": 4,\n        \"samples\": [\n          \"Servi\\u00e7o Penitenci\\u00e1rio - Reeduca\\u00e7\\u00e3o e Reabilita\\u00e7\\u00e3o de Apenado                                                            \",\n          \"Curso / Treinamento Educa\\u00e7\\u00e3o - Dist\\u00e2ncia                                                                                \",\n          \"Orienta\\u00e7\\u00e3o / Educa\\u00e7\\u00e3o - Atividade F\\u00edsica                                                                                \"\n        ],\n        \"semantic_type\": \"\",\n        \"description\": \"\"\n      }\n    },\n    {\n      \"column\": \"Unidade medida\",\n      \"properties\": {\n        \"dtype\": \"string\",\n        \"num_unique_values\": 2,\n        \"samples\": [\n          \"UN\",\n          \"UNHOMEM/H M\\u00caS\"\n        ],\n        \"semantic_type\": \"\",\n        \"description\": \"\"\n      }\n    },\n    {\n      \"column\": \"CPC\",\n      \"properties\": {\n        \"dtype\": \"number\",\n        \"std\": 4671,\n        \"min\": 929,\n        \"max\": 9659,\n        \"num_unique_values\": 4,\n        \"samples\": [\n          979,\n          929\n        ],\n        \"semantic_type\": \"\",\n        \"description\": \"\"\n      }\n    },\n    {\n      \"column\": \"Se\\u00e7\\u00e3o\",\n      \"properties\": {\n        \"dtype\": \"string\",\n        \"num_unique_values\": 2,\n        \"samples\": [\n          \"8: SERVI\\u00c7OS DE ARQUITETURA, DESENHOS T\\u00c9CNICOS, PESQUISA E DESENVOLVIMENTO, NEG\\u00d3CIO E PRODU\\u00c7\\u00c3O                              \",\n          \"9: SERVI\\u00c7OS DA COMUNIDADE, PESSOAIS E SOCIAIS E OUTROS SERVI\\u00c7OS                                                            \"\n        ],\n        \"semantic_type\": \"\",\n        \"description\": \"\"\n      }\n    },\n    {\n      \"column\": \"Divis\\u00e3o\",\n      \"properties\": {\n        \"dtype\": \"string\",\n        \"num_unique_values\": 4,\n        \"samples\": [\n          \"97: OUTROS SERVI\\u00c7OS                                                                                                         \",\n          \"92: SERVI\\u00c7OS DA INSTRU\\u00c7\\u00c3O/ EDUCA\\u00c7\\u00c3O/ ENSINO                                                                                 \"\n        ],\n        \"semantic_type\": \"\",\n        \"description\": \"\"\n      }\n    },\n    {\n      \"column\": \"Grupo\",\n      \"properties\": {\n        \"dtype\": \"string\",\n        \"num_unique_values\": 4,\n        \"samples\": [\n          \"979: OUTROS SERVI\\u00c7OS DIVERSOS/MISCEL\\u00c2NEA                                                                                     \",\n          \"929: OUTROS SERVI\\u00c7OS DE EDUCA\\u00c7\\u00c3O E TREINAMENTO                                                                               \"\n        ],\n        \"semantic_type\": \"\",\n        \"description\": \"\"\n      }\n    },\n    {\n      \"column\": \"Classe\",\n      \"properties\": {\n        \"dtype\": \"string\",\n        \"num_unique_values\": 2,\n        \"samples\": [\n          \"8319: OUTROS SERVI\\u00c7OS DE GER\\u00caNCIA/GEST\\u00c3O, EXCETO OS DE PROJETOS DECONSTRU\\u00c7\\u00c3O                                                  \",\n          \"9659: OUTROS ESPORTES E SERVI\\u00c7OS DE ESPORTES RECREATIVOS                                                                      \"\n        ],\n        \"semantic_type\": \"\",\n        \"description\": \"\"\n      }\n    },\n    {\n      \"column\": \"Subclasse\",\n      \"properties\": {\n        \"dtype\": \"number\",\n        \"std\": null,\n        \"min\": null,\n        \"max\": null,\n        \"num_unique_values\": 0,\n        \"samples\": [],\n        \"semantic_type\": \"\",\n        \"description\": \"\"\n      }\n    }\n  ]\n}"
            }
          },
          "metadata": {},
          "execution_count": 61
        }
      ]
    },
    {
      "cell_type": "code",
      "source": [
        "spark = SparkSession.builder.appName(\"Aula\").getOrCreate()"
      ],
      "metadata": {
        "id": "TJ3arwRxH3O8"
      },
      "execution_count": 62,
      "outputs": []
    },
    {
      "cell_type": "code",
      "source": [
        "df = spark.createDataFrame(df)"
      ],
      "metadata": {
        "id": "4eZNo3xDJ-4m"
      },
      "execution_count": 63,
      "outputs": []
    },
    {
      "cell_type": "code",
      "source": [
        "df.printSchema()"
      ],
      "metadata": {
        "colab": {
          "base_uri": "https://localhost:8080/"
        },
        "id": "2ZZThmFpO8dR",
        "outputId": "7800d7d7-6ae5-4ef9-873a-95e6abaa4f5c"
      },
      "execution_count": 64,
      "outputs": [
        {
          "output_type": "stream",
          "name": "stdout",
          "text": [
            "root\n",
            " |-- Código: long (nullable = true)\n",
            " |-- Descrição: string (nullable = true)\n",
            " |-- Unidade medida: string (nullable = true)\n",
            " |-- CPC: long (nullable = true)\n",
            " |-- Seção: string (nullable = true)\n",
            " |-- Divisão: string (nullable = true)\n",
            " |-- Grupo: string (nullable = true)\n",
            " |-- Classe: string (nullable = true)\n",
            " |-- Subclasse: double (nullable = true)\n",
            "\n"
          ]
        }
      ]
    },
    {
      "cell_type": "code",
      "source": [
        "df = (df.withColumnRenamed(\"Código\", \"Codigo\")\n",
        ".withColumnRenamed(\"Descrição\",\"Descricao\")\n",
        ".withColumnRenamed(\"Unidade medida\", \"Unidade_Medida\")\n",
        ".withColumnRenamed(\"Seção\", \"secao\")\n",
        ".withColumnRenamed(\"Divisão\", \"Divisao\")\n",
        ")"
      ],
      "metadata": {
        "id": "xrb5GAjBTjQl"
      },
      "execution_count": 67,
      "outputs": []
    },
    {
      "cell_type": "code",
      "source": [
        "df = df.select([x.lower() for x in df.columns])\n",
        "df.printSchema()"
      ],
      "metadata": {
        "colab": {
          "base_uri": "https://localhost:8080/"
        },
        "id": "vlhquKc8TrF1",
        "outputId": "a0678f05-1c4a-400f-80cf-c4974fcbb29f"
      },
      "execution_count": 71,
      "outputs": [
        {
          "output_type": "stream",
          "name": "stdout",
          "text": [
            "root\n",
            " |-- codigo: long (nullable = true)\n",
            " |-- descricao: string (nullable = true)\n",
            " |-- unidade_medida: string (nullable = true)\n",
            " |-- cpc: long (nullable = true)\n",
            " |-- secao: string (nullable = true)\n",
            " |-- divisao: string (nullable = true)\n",
            " |-- grupo: string (nullable = true)\n",
            " |-- classe: string (nullable = true)\n",
            " |-- subclasse: double (nullable = true)\n",
            "\n"
          ]
        }
      ]
    },
    {
      "cell_type": "code",
      "source": [
        "from google.colab import drive"
      ],
      "metadata": {
        "id": "72De3F7abJ3F"
      },
      "execution_count": 72,
      "outputs": []
    },
    {
      "cell_type": "code",
      "source": [
        "import os\n",
        "os.makedirs('/content/drive/MyDrive/xpe/data', exist_ok=True)\n",
        "drive.mount(\"/content/drive/MyDrive/xpe/data\")"
      ],
      "metadata": {
        "colab": {
          "base_uri": "https://localhost:8080/"
        },
        "id": "k1UhXA_bbO7Z",
        "outputId": "7123aa73-235b-4cad-a942-16f460c0be35"
      },
      "execution_count": 78,
      "outputs": [
        {
          "output_type": "stream",
          "name": "stdout",
          "text": [
            "Mounted at /content/drive/MyDrive/xpe/data\n"
          ]
        }
      ]
    },
    {
      "cell_type": "code",
      "source": [
        "df.write.mode(\"overwrite\").csv(\"/content/drive/MyDrive/xpe/data/educacao.csv\")"
      ],
      "metadata": {
        "id": "JmYMQEIgkjdk"
      },
      "execution_count": 79,
      "outputs": []
    }
  ]
}